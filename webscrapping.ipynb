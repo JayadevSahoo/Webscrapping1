{
 "cells": [
  {
   "cell_type": "code",
   "execution_count": 1,
   "metadata": {},
   "outputs": [],
   "source": [
    "from bs4 import BeautifulSoup as soup\n",
    "from urllib.request import urlopen as Ureq\n",
    "\n",
    "filename = \"TimesOfIndia9.csv\"\n",
    "f = open(filename,\"w\")\n",
    "headers = \"Title, Content\\n\"\n",
    "f.write(headers)\n",
    "\n",
    "my_url = \"https://timesofindia.indiatimes.com/topic/Narendra-Modi\"\n",
    "uClient = Ureq(my_url)\n",
    "Html_page = uClient.read()\n",
    "uClient.close()\n",
    "page_soup = soup(Html_page,\"html.parser\")\n",
    "#print(page_soup.prettify())\n",
    "containers = page_soup.findAll(\"div\",{\"class\":\"content\"})\n",
    "#print(len(container))\n",
    "for container in containers:\n",
    "    Title = container.findAll(\"span\",{\"class\":\"title\"})\n",
    "    for div in Title:\n",
    "        Title1 = div.text.strip()\n",
    "    Cont = container.findAll(\"p\")\n",
    "    for div in Cont:\n",
    "        Cont1 = div.text\n",
    "    f.write(str(Title1) + \",\" + str(Cont1.replace(\",\",\" \")) + \"\\n\")\n",
    "f.close()"
   ]
  },
  {
   "cell_type": "code",
   "execution_count": null,
   "metadata": {},
   "outputs": [],
   "source": []
  }
 ],
 "metadata": {
  "kernelspec": {
   "display_name": "Python 3",
   "language": "python",
   "name": "python3"
  },
  "language_info": {
   "codemirror_mode": {
    "name": "ipython",
    "version": 3
   },
   "file_extension": ".py",
   "mimetype": "text/x-python",
   "name": "python",
   "nbconvert_exporter": "python",
   "pygments_lexer": "ipython3",
   "version": "3.7.3"
  }
 },
 "nbformat": 4,
 "nbformat_minor": 2
}
